{
 "cells": [
  {
   "cell_type": "code",
   "execution_count": 311,
   "metadata": {},
   "outputs": [],
   "source": [
    "import pandas as pd\n",
    "import numpy as np\n",
    "import seaborn as sns\n",
    "import matplotlib.pyplot as plt\n",
    "import scipy\n",
    "from scipy import stats\n"
   ]
  },
  {
   "cell_type": "markdown",
   "metadata": {},
   "source": [
    "# AB Testing: Evaluating the Effect of Marketing/Product Changes\n",
    "\n",
    "**Goal:** Determine whether changes to marketing materials, webpage design, or products result in increased performance.\n",
    "\n",
    "**Overview:** Why use statistics/T-Test to evaluate programs? Why not just calculate the average of those served the change versus those not served the change?\n",
    "\n",
    "Statistics/T-Testing allows us to incorporate the likliehood that differences between calaculated metric averages of two groups are the product of chance into our analysis. If we just compare the average conversion rate of customers served the change and customers not served the change, we fail to account for uncertainty caused by the variation of data within each group or small sample sizes.    \n"
   ]
  },
  {
   "cell_type": "markdown",
   "metadata": {},
   "source": [
    "# AB Testing: Treatment and Control\n",
    "\n",
    "**When planning AB Testing a New Feature, we must:**\n",
    "\n",
    "1) Choose metrics most relevant for analysis. This is a company specific question. What do you hope the new feature will accomplish. Increased conversion rates, increased time on the app, increased Daily Active Users, increased spending, etc...\n",
    "\n",
    "2) Randomly split customer base being used for testing into two groups. Treatment/Control. The treatment group are customers being exposed to the new feature. The control group are the customers being served the original product. \n",
    "\n",
    "3) Choose a hypothesis to test. For the purpose of this analysis, we will test whether product changes cause any meaningful difference to metrics of interest. To accomplish this, in statistics, we test whether we can reject that there is no change.  \n",
    "\n",
    "4) Determine how big the effect size has to be for it to be of consequence to the company and determine what sample size is needed to detect that effect. \n"
   ]
  },
  {
   "cell_type": "code",
   "execution_count": 312,
   "metadata": {},
   "outputs": [
    {
     "data": {
      "text/html": [
       "<div>\n",
       "<style scoped>\n",
       "    .dataframe tbody tr th:only-of-type {\n",
       "        vertical-align: middle;\n",
       "    }\n",
       "\n",
       "    .dataframe tbody tr th {\n",
       "        vertical-align: top;\n",
       "    }\n",
       "\n",
       "    .dataframe thead th {\n",
       "        text-align: right;\n",
       "    }\n",
       "</style>\n",
       "<table border=\"1\" class=\"dataframe\">\n",
       "  <thead>\n",
       "    <tr style=\"text-align: right;\">\n",
       "      <th></th>\n",
       "      <th>user_id</th>\n",
       "      <th>reporting_start</th>\n",
       "      <th>reporting_end</th>\n",
       "      <th>age</th>\n",
       "      <th>gender</th>\n",
       "      <th>interest1</th>\n",
       "      <th>interest2</th>\n",
       "      <th>interest3</th>\n",
       "    </tr>\n",
       "  </thead>\n",
       "  <tbody>\n",
       "    <tr>\n",
       "      <td>0</td>\n",
       "      <td>708746</td>\n",
       "      <td>17/08/2017</td>\n",
       "      <td>17/08/2017</td>\n",
       "      <td>30-34</td>\n",
       "      <td>M</td>\n",
       "      <td>15</td>\n",
       "      <td>17</td>\n",
       "      <td>17</td>\n",
       "    </tr>\n",
       "    <tr>\n",
       "      <td>1</td>\n",
       "      <td>708749</td>\n",
       "      <td>17/08/2017</td>\n",
       "      <td>17/08/2017</td>\n",
       "      <td>30-34</td>\n",
       "      <td>M</td>\n",
       "      <td>16</td>\n",
       "      <td>19</td>\n",
       "      <td>21</td>\n",
       "    </tr>\n",
       "    <tr>\n",
       "      <td>2</td>\n",
       "      <td>708771</td>\n",
       "      <td>17/08/2017</td>\n",
       "      <td>17/08/2017</td>\n",
       "      <td>30-34</td>\n",
       "      <td>M</td>\n",
       "      <td>20</td>\n",
       "      <td>25</td>\n",
       "      <td>22</td>\n",
       "    </tr>\n",
       "    <tr>\n",
       "      <td>3</td>\n",
       "      <td>708815</td>\n",
       "      <td>30/08/2017</td>\n",
       "      <td>30/08/2017</td>\n",
       "      <td>30-34</td>\n",
       "      <td>M</td>\n",
       "      <td>28</td>\n",
       "      <td>32</td>\n",
       "      <td>32</td>\n",
       "    </tr>\n",
       "    <tr>\n",
       "      <td>4</td>\n",
       "      <td>708818</td>\n",
       "      <td>17/08/2017</td>\n",
       "      <td>17/08/2017</td>\n",
       "      <td>30-34</td>\n",
       "      <td>M</td>\n",
       "      <td>28</td>\n",
       "      <td>33</td>\n",
       "      <td>32</td>\n",
       "    </tr>\n",
       "    <tr>\n",
       "      <td>...</td>\n",
       "      <td>...</td>\n",
       "      <td>...</td>\n",
       "      <td>...</td>\n",
       "      <td>...</td>\n",
       "      <td>...</td>\n",
       "      <td>...</td>\n",
       "      <td>...</td>\n",
       "      <td>...</td>\n",
       "    </tr>\n",
       "    <tr>\n",
       "      <td>1138</td>\n",
       "      <td>1314410</td>\n",
       "      <td>19/08/2017</td>\n",
       "      <td>19/08/2017</td>\n",
       "      <td>45-49</td>\n",
       "      <td>F</td>\n",
       "      <td>109</td>\n",
       "      <td>111</td>\n",
       "      <td>114</td>\n",
       "    </tr>\n",
       "    <tr>\n",
       "      <td>1139</td>\n",
       "      <td>1314411</td>\n",
       "      <td>19/08/2017</td>\n",
       "      <td>19/08/2017</td>\n",
       "      <td>45-49</td>\n",
       "      <td>F</td>\n",
       "      <td>110</td>\n",
       "      <td>111</td>\n",
       "      <td>116</td>\n",
       "    </tr>\n",
       "    <tr>\n",
       "      <td>1140</td>\n",
       "      <td>1314412</td>\n",
       "      <td>19/08/2017</td>\n",
       "      <td>19/08/2017</td>\n",
       "      <td>45-49</td>\n",
       "      <td>F</td>\n",
       "      <td>111</td>\n",
       "      <td>113</td>\n",
       "      <td>117</td>\n",
       "    </tr>\n",
       "    <tr>\n",
       "      <td>1141</td>\n",
       "      <td>1314414</td>\n",
       "      <td>17/08/2017</td>\n",
       "      <td>17/08/2017</td>\n",
       "      <td>45-49</td>\n",
       "      <td>F</td>\n",
       "      <td>113</td>\n",
       "      <td>114</td>\n",
       "      <td>117</td>\n",
       "    </tr>\n",
       "    <tr>\n",
       "      <td>1142</td>\n",
       "      <td>1314415</td>\n",
       "      <td>17/08/2017</td>\n",
       "      <td>17/08/2017</td>\n",
       "      <td>45-49</td>\n",
       "      <td>F</td>\n",
       "      <td>114</td>\n",
       "      <td>116</td>\n",
       "      <td>118</td>\n",
       "    </tr>\n",
       "  </tbody>\n",
       "</table>\n",
       "<p>1143 rows × 8 columns</p>\n",
       "</div>"
      ],
      "text/plain": [
       "      user_id reporting_start reporting_end    age gender  interest1  \\\n",
       "0      708746      17/08/2017    17/08/2017  30-34      M         15   \n",
       "1      708749      17/08/2017    17/08/2017  30-34      M         16   \n",
       "2      708771      17/08/2017    17/08/2017  30-34      M         20   \n",
       "3      708815      30/08/2017    30/08/2017  30-34      M         28   \n",
       "4      708818      17/08/2017    17/08/2017  30-34      M         28   \n",
       "...       ...             ...           ...    ...    ...        ...   \n",
       "1138  1314410      19/08/2017    19/08/2017  45-49      F        109   \n",
       "1139  1314411      19/08/2017    19/08/2017  45-49      F        110   \n",
       "1140  1314412      19/08/2017    19/08/2017  45-49      F        111   \n",
       "1141  1314414      17/08/2017    17/08/2017  45-49      F        113   \n",
       "1142  1314415      17/08/2017    17/08/2017  45-49      F        114   \n",
       "\n",
       "      interest2  interest3  \n",
       "0            17         17  \n",
       "1            19         21  \n",
       "2            25         22  \n",
       "3            32         32  \n",
       "4            33         32  \n",
       "...         ...        ...  \n",
       "1138        111        114  \n",
       "1139        111        116  \n",
       "1140        113        117  \n",
       "1141        114        117  \n",
       "1142        116        118  \n",
       "\n",
       "[1143 rows x 8 columns]"
      ]
     },
     "execution_count": 312,
     "metadata": {},
     "output_type": "execute_result"
    }
   ],
   "source": [
    "####List of Users\n",
    "fb_users = pd.read_csv(\"/Users/james/Desktop/MIT Data Science Masters/AB Testing/facebook_ad_campaign_dataset_no_results.csv\")\n",
    "fb_users\n"
   ]
  },
  {
   "cell_type": "markdown",
   "metadata": {},
   "source": [
    "**Stratification:** Generally, you want the characteristics of your treatment and control group to be as similar as possible. Random assignment helps minimize selection bias and reduce the chance of unrepresentative groups. Since we have user age and gender Information, to help assure representative groups, we seperate users into buckets seperated by age and gender before randomly assigning users. "
   ]
  },
  {
   "cell_type": "code",
   "execution_count": 313,
   "metadata": {},
   "outputs": [
    {
     "data": {
      "text/plain": [
       "30-34    426\n",
       "45-49    259\n",
       "35-39    248\n",
       "40-44    210\n",
       "Name: age, dtype: int64"
      ]
     },
     "execution_count": 313,
     "metadata": {},
     "output_type": "execute_result"
    }
   ],
   "source": [
    "###Check the number of users in each age group###\n",
    "fb_users['age'].value_counts()"
   ]
  },
  {
   "cell_type": "code",
   "execution_count": 314,
   "metadata": {},
   "outputs": [
    {
     "data": {
      "text/plain": [
       "M    592\n",
       "F    551\n",
       "Name: gender, dtype: int64"
      ]
     },
     "execution_count": 314,
     "metadata": {},
     "output_type": "execute_result"
    }
   ],
   "source": [
    "###Check the number of users in each gender group###\n",
    "fb_users['gender'].value_counts()"
   ]
  },
  {
   "cell_type": "code",
   "execution_count": 315,
   "metadata": {},
   "outputs": [],
   "source": [
    "####Split Data Into Male and Female Groups\n",
    "fb_users_M=fb_users[fb_users['gender']=='M']\n",
    "fb_users_F=fb_users[fb_users['gender']=='F']"
   ]
  },
  {
   "cell_type": "code",
   "execution_count": 316,
   "metadata": {},
   "outputs": [
    {
     "name": "stderr",
     "output_type": "stream",
     "text": [
      "/Users/james/opt/anaconda3/lib/python3.7/site-packages/ipykernel_launcher.py:7: SettingWithCopyWarning: \n",
      "A value is trying to be set on a copy of a slice from a DataFrame.\n",
      "Try using .loc[row_indexer,col_indexer] = value instead\n",
      "\n",
      "See the caveats in the documentation: http://pandas.pydata.org/pandas-docs/stable/user_guide/indexing.html#returning-a-view-versus-a-copy\n",
      "  import sys\n"
     ]
    }
   ],
   "source": [
    "#####Randomly assign treatment and control status stratified by age group. \n",
    "np.random.seed( 111)\n",
    "d = {\"30-34\":[.5,.5],\"45-49\":[.5,.5],\"35-39\":[.5,.5],\"40-44\":[.5,.5] }\n",
    "\n",
    "fb_users_M['Treatment_Status'] = \\\n",
    "fb_users_M.groupby('age')['user_id'] \\\n",
    "   .transform(lambda x: np.random.choice([0,1], len(x), p=d[x.name]))\n",
    "\n"
   ]
  },
  {
   "cell_type": "code",
   "execution_count": 317,
   "metadata": {},
   "outputs": [
    {
     "name": "stderr",
     "output_type": "stream",
     "text": [
      "/Users/james/opt/anaconda3/lib/python3.7/site-packages/ipykernel_launcher.py:6: SettingWithCopyWarning: \n",
      "A value is trying to be set on a copy of a slice from a DataFrame.\n",
      "Try using .loc[row_indexer,col_indexer] = value instead\n",
      "\n",
      "See the caveats in the documentation: http://pandas.pydata.org/pandas-docs/stable/user_guide/indexing.html#returning-a-view-versus-a-copy\n",
      "  \n"
     ]
    }
   ],
   "source": [
    "np.random.seed( 112)\n",
    "d = {\"30-34\":[.5,.5],\"45-49\":[.5,.5],\"35-39\":[.5,.5],\"40-44\":[.5,.5] }\n",
    "\n",
    "fb_users_F['Treatment_Status'] = \\\n",
    "fb_users_F.groupby('age')['user_id'] \\\n",
    "   .transform(lambda x: np.random.choice([0,1], len(x), p=d[x.name]))"
   ]
  },
  {
   "cell_type": "code",
   "execution_count": 318,
   "metadata": {},
   "outputs": [
    {
     "data": {
      "text/plain": [
       "0    309\n",
       "1    283\n",
       "Name: Treatment_Status, dtype: int64"
      ]
     },
     "execution_count": 318,
     "metadata": {},
     "output_type": "execute_result"
    }
   ],
   "source": [
    "fb_users_M['Treatment_Status'].value_counts()"
   ]
  },
  {
   "cell_type": "code",
   "execution_count": 319,
   "metadata": {},
   "outputs": [
    {
     "data": {
      "text/plain": [
       "0    285\n",
       "1    266\n",
       "Name: Treatment_Status, dtype: int64"
      ]
     },
     "execution_count": 319,
     "metadata": {},
     "output_type": "execute_result"
    }
   ],
   "source": [
    "fb_users_F['Treatment_Status'].value_counts()"
   ]
  },
  {
   "cell_type": "code",
   "execution_count": 320,
   "metadata": {},
   "outputs": [
    {
     "data": {
      "text/html": [
       "<div>\n",
       "<style scoped>\n",
       "    .dataframe tbody tr th:only-of-type {\n",
       "        vertical-align: middle;\n",
       "    }\n",
       "\n",
       "    .dataframe tbody tr th {\n",
       "        vertical-align: top;\n",
       "    }\n",
       "\n",
       "    .dataframe thead th {\n",
       "        text-align: right;\n",
       "    }\n",
       "</style>\n",
       "<table border=\"1\" class=\"dataframe\">\n",
       "  <thead>\n",
       "    <tr style=\"text-align: right;\">\n",
       "      <th></th>\n",
       "      <th>user_id</th>\n",
       "      <th>reporting_start</th>\n",
       "      <th>reporting_end</th>\n",
       "      <th>age</th>\n",
       "      <th>gender</th>\n",
       "      <th>interest1</th>\n",
       "      <th>interest2</th>\n",
       "      <th>interest3</th>\n",
       "      <th>Treatment_Status</th>\n",
       "    </tr>\n",
       "  </thead>\n",
       "  <tbody>\n",
       "    <tr>\n",
       "      <td>0</td>\n",
       "      <td>708746</td>\n",
       "      <td>17/08/2017</td>\n",
       "      <td>17/08/2017</td>\n",
       "      <td>30-34</td>\n",
       "      <td>M</td>\n",
       "      <td>15</td>\n",
       "      <td>17</td>\n",
       "      <td>17</td>\n",
       "      <td>1</td>\n",
       "    </tr>\n",
       "    <tr>\n",
       "      <td>1</td>\n",
       "      <td>708749</td>\n",
       "      <td>17/08/2017</td>\n",
       "      <td>17/08/2017</td>\n",
       "      <td>30-34</td>\n",
       "      <td>M</td>\n",
       "      <td>16</td>\n",
       "      <td>19</td>\n",
       "      <td>21</td>\n",
       "      <td>0</td>\n",
       "    </tr>\n",
       "    <tr>\n",
       "      <td>2</td>\n",
       "      <td>708771</td>\n",
       "      <td>17/08/2017</td>\n",
       "      <td>17/08/2017</td>\n",
       "      <td>30-34</td>\n",
       "      <td>M</td>\n",
       "      <td>20</td>\n",
       "      <td>25</td>\n",
       "      <td>22</td>\n",
       "      <td>0</td>\n",
       "    </tr>\n",
       "    <tr>\n",
       "      <td>3</td>\n",
       "      <td>708815</td>\n",
       "      <td>30/08/2017</td>\n",
       "      <td>30/08/2017</td>\n",
       "      <td>30-34</td>\n",
       "      <td>M</td>\n",
       "      <td>28</td>\n",
       "      <td>32</td>\n",
       "      <td>32</td>\n",
       "      <td>1</td>\n",
       "    </tr>\n",
       "    <tr>\n",
       "      <td>4</td>\n",
       "      <td>708818</td>\n",
       "      <td>17/08/2017</td>\n",
       "      <td>17/08/2017</td>\n",
       "      <td>30-34</td>\n",
       "      <td>M</td>\n",
       "      <td>28</td>\n",
       "      <td>33</td>\n",
       "      <td>32</td>\n",
       "      <td>0</td>\n",
       "    </tr>\n",
       "    <tr>\n",
       "      <td>...</td>\n",
       "      <td>...</td>\n",
       "      <td>...</td>\n",
       "      <td>...</td>\n",
       "      <td>...</td>\n",
       "      <td>...</td>\n",
       "      <td>...</td>\n",
       "      <td>...</td>\n",
       "      <td>...</td>\n",
       "      <td>...</td>\n",
       "    </tr>\n",
       "    <tr>\n",
       "      <td>1138</td>\n",
       "      <td>1314410</td>\n",
       "      <td>19/08/2017</td>\n",
       "      <td>19/08/2017</td>\n",
       "      <td>45-49</td>\n",
       "      <td>F</td>\n",
       "      <td>109</td>\n",
       "      <td>111</td>\n",
       "      <td>114</td>\n",
       "      <td>1</td>\n",
       "    </tr>\n",
       "    <tr>\n",
       "      <td>1139</td>\n",
       "      <td>1314411</td>\n",
       "      <td>19/08/2017</td>\n",
       "      <td>19/08/2017</td>\n",
       "      <td>45-49</td>\n",
       "      <td>F</td>\n",
       "      <td>110</td>\n",
       "      <td>111</td>\n",
       "      <td>116</td>\n",
       "      <td>0</td>\n",
       "    </tr>\n",
       "    <tr>\n",
       "      <td>1140</td>\n",
       "      <td>1314412</td>\n",
       "      <td>19/08/2017</td>\n",
       "      <td>19/08/2017</td>\n",
       "      <td>45-49</td>\n",
       "      <td>F</td>\n",
       "      <td>111</td>\n",
       "      <td>113</td>\n",
       "      <td>117</td>\n",
       "      <td>0</td>\n",
       "    </tr>\n",
       "    <tr>\n",
       "      <td>1141</td>\n",
       "      <td>1314414</td>\n",
       "      <td>17/08/2017</td>\n",
       "      <td>17/08/2017</td>\n",
       "      <td>45-49</td>\n",
       "      <td>F</td>\n",
       "      <td>113</td>\n",
       "      <td>114</td>\n",
       "      <td>117</td>\n",
       "      <td>1</td>\n",
       "    </tr>\n",
       "    <tr>\n",
       "      <td>1142</td>\n",
       "      <td>1314415</td>\n",
       "      <td>17/08/2017</td>\n",
       "      <td>17/08/2017</td>\n",
       "      <td>45-49</td>\n",
       "      <td>F</td>\n",
       "      <td>114</td>\n",
       "      <td>116</td>\n",
       "      <td>118</td>\n",
       "      <td>0</td>\n",
       "    </tr>\n",
       "  </tbody>\n",
       "</table>\n",
       "<p>1143 rows × 9 columns</p>\n",
       "</div>"
      ],
      "text/plain": [
       "      user_id reporting_start reporting_end    age gender  interest1  \\\n",
       "0      708746      17/08/2017    17/08/2017  30-34      M         15   \n",
       "1      708749      17/08/2017    17/08/2017  30-34      M         16   \n",
       "2      708771      17/08/2017    17/08/2017  30-34      M         20   \n",
       "3      708815      30/08/2017    30/08/2017  30-34      M         28   \n",
       "4      708818      17/08/2017    17/08/2017  30-34      M         28   \n",
       "...       ...             ...           ...    ...    ...        ...   \n",
       "1138  1314410      19/08/2017    19/08/2017  45-49      F        109   \n",
       "1139  1314411      19/08/2017    19/08/2017  45-49      F        110   \n",
       "1140  1314412      19/08/2017    19/08/2017  45-49      F        111   \n",
       "1141  1314414      17/08/2017    17/08/2017  45-49      F        113   \n",
       "1142  1314415      17/08/2017    17/08/2017  45-49      F        114   \n",
       "\n",
       "      interest2  interest3  Treatment_Status  \n",
       "0            17         17                 1  \n",
       "1            19         21                 0  \n",
       "2            25         22                 0  \n",
       "3            32         32                 1  \n",
       "4            33         32                 0  \n",
       "...         ...        ...               ...  \n",
       "1138        111        114                 1  \n",
       "1139        111        116                 0  \n",
       "1140        113        117                 0  \n",
       "1141        114        117                 1  \n",
       "1142        116        118                 0  \n",
       "\n",
       "[1143 rows x 9 columns]"
      ]
     },
     "execution_count": 320,
     "metadata": {},
     "output_type": "execute_result"
    }
   ],
   "source": [
    "frames = [fb_users_M, fb_users_F]\n",
    "\n",
    "fb_users_treatment_status= pd.concat(frames)\n",
    "fb_users_treatment_status"
   ]
  },
  {
   "cell_type": "markdown",
   "metadata": {},
   "source": [
    "# Collect Metrics for Each Group After Change\n",
    "At this stage, we collect metrics identified as useful on users in treatment and control groups. \n"
   ]
  },
  {
   "cell_type": "code",
   "execution_count": 321,
   "metadata": {},
   "outputs": [],
   "source": [
    "user_results = pd.read_csv(\"/Users/james/Desktop/MIT Data Science Masters/AB Testing/facebook_ad_campaign_dataset_results.csv\")\n"
   ]
  },
  {
   "cell_type": "code",
   "execution_count": 322,
   "metadata": {},
   "outputs": [
    {
     "data": {
      "text/html": [
       "<div>\n",
       "<style scoped>\n",
       "    .dataframe tbody tr th:only-of-type {\n",
       "        vertical-align: middle;\n",
       "    }\n",
       "\n",
       "    .dataframe tbody tr th {\n",
       "        vertical-align: top;\n",
       "    }\n",
       "\n",
       "    .dataframe thead th {\n",
       "        text-align: right;\n",
       "    }\n",
       "</style>\n",
       "<table border=\"1\" class=\"dataframe\">\n",
       "  <thead>\n",
       "    <tr style=\"text-align: right;\">\n",
       "      <th></th>\n",
       "      <th>user_id</th>\n",
       "      <th>reporting_start</th>\n",
       "      <th>reporting_end</th>\n",
       "      <th>age</th>\n",
       "      <th>gender</th>\n",
       "      <th>interest1</th>\n",
       "      <th>interest2</th>\n",
       "      <th>interest3</th>\n",
       "      <th>Treatment_Status</th>\n",
       "      <th>impressions</th>\n",
       "      <th>clicks</th>\n",
       "      <th>spent</th>\n",
       "      <th>total_conversion</th>\n",
       "      <th>approved_conversion</th>\n",
       "    </tr>\n",
       "  </thead>\n",
       "  <tbody>\n",
       "    <tr>\n",
       "      <td>0</td>\n",
       "      <td>708746</td>\n",
       "      <td>17/08/2017</td>\n",
       "      <td>17/08/2017</td>\n",
       "      <td>30-34</td>\n",
       "      <td>M</td>\n",
       "      <td>15</td>\n",
       "      <td>17</td>\n",
       "      <td>17</td>\n",
       "      <td>1</td>\n",
       "      <td>7350</td>\n",
       "      <td>1</td>\n",
       "      <td>1.430000</td>\n",
       "      <td>2</td>\n",
       "      <td>1</td>\n",
       "    </tr>\n",
       "    <tr>\n",
       "      <td>1</td>\n",
       "      <td>708749</td>\n",
       "      <td>17/08/2017</td>\n",
       "      <td>17/08/2017</td>\n",
       "      <td>30-34</td>\n",
       "      <td>M</td>\n",
       "      <td>16</td>\n",
       "      <td>19</td>\n",
       "      <td>21</td>\n",
       "      <td>0</td>\n",
       "      <td>17861</td>\n",
       "      <td>2</td>\n",
       "      <td>1.820000</td>\n",
       "      <td>2</td>\n",
       "      <td>0</td>\n",
       "    </tr>\n",
       "    <tr>\n",
       "      <td>2</td>\n",
       "      <td>708771</td>\n",
       "      <td>17/08/2017</td>\n",
       "      <td>17/08/2017</td>\n",
       "      <td>30-34</td>\n",
       "      <td>M</td>\n",
       "      <td>20</td>\n",
       "      <td>25</td>\n",
       "      <td>22</td>\n",
       "      <td>0</td>\n",
       "      <td>693</td>\n",
       "      <td>0</td>\n",
       "      <td>0.000000</td>\n",
       "      <td>1</td>\n",
       "      <td>0</td>\n",
       "    </tr>\n",
       "    <tr>\n",
       "      <td>3</td>\n",
       "      <td>708815</td>\n",
       "      <td>30/08/2017</td>\n",
       "      <td>30/08/2017</td>\n",
       "      <td>30-34</td>\n",
       "      <td>M</td>\n",
       "      <td>28</td>\n",
       "      <td>32</td>\n",
       "      <td>32</td>\n",
       "      <td>1</td>\n",
       "      <td>4259</td>\n",
       "      <td>1</td>\n",
       "      <td>1.250000</td>\n",
       "      <td>1</td>\n",
       "      <td>0</td>\n",
       "    </tr>\n",
       "    <tr>\n",
       "      <td>4</td>\n",
       "      <td>708818</td>\n",
       "      <td>17/08/2017</td>\n",
       "      <td>17/08/2017</td>\n",
       "      <td>30-34</td>\n",
       "      <td>M</td>\n",
       "      <td>28</td>\n",
       "      <td>33</td>\n",
       "      <td>32</td>\n",
       "      <td>0</td>\n",
       "      <td>4133</td>\n",
       "      <td>1</td>\n",
       "      <td>1.290000</td>\n",
       "      <td>1</td>\n",
       "      <td>1</td>\n",
       "    </tr>\n",
       "    <tr>\n",
       "      <td>...</td>\n",
       "      <td>...</td>\n",
       "      <td>...</td>\n",
       "      <td>...</td>\n",
       "      <td>...</td>\n",
       "      <td>...</td>\n",
       "      <td>...</td>\n",
       "      <td>...</td>\n",
       "      <td>...</td>\n",
       "      <td>...</td>\n",
       "      <td>...</td>\n",
       "      <td>...</td>\n",
       "      <td>...</td>\n",
       "      <td>...</td>\n",
       "      <td>...</td>\n",
       "    </tr>\n",
       "    <tr>\n",
       "      <td>1138</td>\n",
       "      <td>1314410</td>\n",
       "      <td>19/08/2017</td>\n",
       "      <td>19/08/2017</td>\n",
       "      <td>45-49</td>\n",
       "      <td>F</td>\n",
       "      <td>109</td>\n",
       "      <td>111</td>\n",
       "      <td>114</td>\n",
       "      <td>1</td>\n",
       "      <td>1129773</td>\n",
       "      <td>252</td>\n",
       "      <td>358.189997</td>\n",
       "      <td>13</td>\n",
       "      <td>2</td>\n",
       "    </tr>\n",
       "    <tr>\n",
       "      <td>1139</td>\n",
       "      <td>1314411</td>\n",
       "      <td>19/08/2017</td>\n",
       "      <td>19/08/2017</td>\n",
       "      <td>45-49</td>\n",
       "      <td>F</td>\n",
       "      <td>110</td>\n",
       "      <td>111</td>\n",
       "      <td>116</td>\n",
       "      <td>0</td>\n",
       "      <td>637549</td>\n",
       "      <td>120</td>\n",
       "      <td>173.880003</td>\n",
       "      <td>3</td>\n",
       "      <td>0</td>\n",
       "    </tr>\n",
       "    <tr>\n",
       "      <td>1140</td>\n",
       "      <td>1314412</td>\n",
       "      <td>19/08/2017</td>\n",
       "      <td>19/08/2017</td>\n",
       "      <td>45-49</td>\n",
       "      <td>F</td>\n",
       "      <td>111</td>\n",
       "      <td>113</td>\n",
       "      <td>117</td>\n",
       "      <td>0</td>\n",
       "      <td>151531</td>\n",
       "      <td>28</td>\n",
       "      <td>40.289999</td>\n",
       "      <td>2</td>\n",
       "      <td>0</td>\n",
       "    </tr>\n",
       "    <tr>\n",
       "      <td>1141</td>\n",
       "      <td>1314414</td>\n",
       "      <td>17/08/2017</td>\n",
       "      <td>17/08/2017</td>\n",
       "      <td>45-49</td>\n",
       "      <td>F</td>\n",
       "      <td>113</td>\n",
       "      <td>114</td>\n",
       "      <td>117</td>\n",
       "      <td>1</td>\n",
       "      <td>790253</td>\n",
       "      <td>135</td>\n",
       "      <td>198.710000</td>\n",
       "      <td>8</td>\n",
       "      <td>2</td>\n",
       "    </tr>\n",
       "    <tr>\n",
       "      <td>1142</td>\n",
       "      <td>1314415</td>\n",
       "      <td>17/08/2017</td>\n",
       "      <td>17/08/2017</td>\n",
       "      <td>45-49</td>\n",
       "      <td>F</td>\n",
       "      <td>114</td>\n",
       "      <td>116</td>\n",
       "      <td>118</td>\n",
       "      <td>0</td>\n",
       "      <td>513161</td>\n",
       "      <td>114</td>\n",
       "      <td>165.609999</td>\n",
       "      <td>5</td>\n",
       "      <td>2</td>\n",
       "    </tr>\n",
       "  </tbody>\n",
       "</table>\n",
       "<p>1143 rows × 14 columns</p>\n",
       "</div>"
      ],
      "text/plain": [
       "      user_id reporting_start reporting_end    age gender  interest1  \\\n",
       "0      708746      17/08/2017    17/08/2017  30-34      M         15   \n",
       "1      708749      17/08/2017    17/08/2017  30-34      M         16   \n",
       "2      708771      17/08/2017    17/08/2017  30-34      M         20   \n",
       "3      708815      30/08/2017    30/08/2017  30-34      M         28   \n",
       "4      708818      17/08/2017    17/08/2017  30-34      M         28   \n",
       "...       ...             ...           ...    ...    ...        ...   \n",
       "1138  1314410      19/08/2017    19/08/2017  45-49      F        109   \n",
       "1139  1314411      19/08/2017    19/08/2017  45-49      F        110   \n",
       "1140  1314412      19/08/2017    19/08/2017  45-49      F        111   \n",
       "1141  1314414      17/08/2017    17/08/2017  45-49      F        113   \n",
       "1142  1314415      17/08/2017    17/08/2017  45-49      F        114   \n",
       "\n",
       "      interest2  interest3  Treatment_Status  impressions  clicks       spent  \\\n",
       "0            17         17                 1         7350       1    1.430000   \n",
       "1            19         21                 0        17861       2    1.820000   \n",
       "2            25         22                 0          693       0    0.000000   \n",
       "3            32         32                 1         4259       1    1.250000   \n",
       "4            33         32                 0         4133       1    1.290000   \n",
       "...         ...        ...               ...          ...     ...         ...   \n",
       "1138        111        114                 1      1129773     252  358.189997   \n",
       "1139        111        116                 0       637549     120  173.880003   \n",
       "1140        113        117                 0       151531      28   40.289999   \n",
       "1141        114        117                 1       790253     135  198.710000   \n",
       "1142        116        118                 0       513161     114  165.609999   \n",
       "\n",
       "      total_conversion  approved_conversion  \n",
       "0                    2                    1  \n",
       "1                    2                    0  \n",
       "2                    1                    0  \n",
       "3                    1                    0  \n",
       "4                    1                    1  \n",
       "...                ...                  ...  \n",
       "1138                13                    2  \n",
       "1139                 3                    0  \n",
       "1140                 2                    0  \n",
       "1141                 8                    2  \n",
       "1142                 5                    2  \n",
       "\n",
       "[1143 rows x 14 columns]"
      ]
     },
     "execution_count": 322,
     "metadata": {},
     "output_type": "execute_result"
    }
   ],
   "source": [
    "#######Merge Data with Results ######\n",
    "\n",
    "user_results_full = pd.merge(fb_users_treatment_status, user_results, on='user_id')\n",
    "user_results_full"
   ]
  },
  {
   "cell_type": "markdown",
   "metadata": {},
   "source": [
    "# Review Pair Plots and Evaluate the Normality of the Distribution of Various Metrics"
   ]
  },
  {
   "cell_type": "code",
   "execution_count": 323,
   "metadata": {},
   "outputs": [
    {
     "data": {
      "text/plain": [
       "<seaborn.axisgrid.PairGrid at 0x1a29739d10>"
      ]
     },
     "execution_count": 323,
     "metadata": {},
     "output_type": "execute_result"
    },
    {
     "data": {
      "image/png": "[encoded data removed]",
      "text/plain": [
       "<Figure size 1176.98x1080 with 42 Axes>"
      ]
     },
     "metadata": {
      "needs_background": "light"
     },
     "output_type": "display_data"
    }
   ],
   "source": [
    "###Use Seaborn to create a pair plot of metrics seperating treatment and control.\n",
    "pp=user_results_full[['Treatment_Status','impressions','clicks','spent','total_conversion','approved_conversion']]\n",
    "sns.pairplot(pp, hue=\"Treatment_Status\")\n"
   ]
  },
  {
   "cell_type": "markdown",
   "metadata": {},
   "source": [
    "# Testing Normality  \n",
    "**Skew**:Normally distributed data is symetrical around the mean. i.e. median = mean. Our metrics have a positive skew and is skewed to the right with a long left tail. "
   ]
  },
  {
   "cell_type": "code",
   "execution_count": 324,
   "metadata": {},
   "outputs": [
    {
     "data": {
      "text/plain": [
       "Treatment_Status       0.078905\n",
       "impressions            3.010185\n",
       "clicks                 2.712187\n",
       "spent                  2.708867\n",
       "total_conversion       5.095919\n",
       "approved_conversion    4.837539\n",
       "dtype: float64"
      ]
     },
     "execution_count": 324,
     "metadata": {},
     "output_type": "execute_result"
    }
   ],
   "source": [
    "####Calculate Skew:\n",
    "pp.skew(axis=0)\n"
   ]
  },
  {
   "cell_type": "markdown",
   "metadata": {},
   "source": [
    "**Kolmogorov–Smirnov Normality Test(KL Test)**: Measures the largest difference between a normal CDF and our datas CDF to determine whether the data is normally distributed. \n",
    "\n",
    "**P-Value** < 0.05 (significance level), reject that they are drawn from same distribution.\n",
    "\n",
    "Statistic greater than critical value reject null. "
   ]
  },
  {
   "cell_type": "code",
   "execution_count": 325,
   "metadata": {},
   "outputs": [
    {
     "data": {
      "text/plain": [
       "KstestResult(statistic=1.0, pvalue=0.0)"
      ]
     },
     "execution_count": 325,
     "metadata": {},
     "output_type": "execute_result"
    }
   ],
   "source": [
    "####KS Test\n",
    "pp_ac=pp[['approved_conversion']]\n",
    "stats.kstest(pp_ac,'norm')\n"
   ]
  },
  {
   "cell_type": "markdown",
   "metadata": {},
   "source": [
    "**Conclusion**: The pair plots illustrate that the distribution of our evaluation metrics are more exponential than normal. If we want further confirmation of this conclusion, we can look to our KS Test and calculated skew. Since our metric distributions are not normally distributed, we cannot perform a two sample t-stat test. "
   ]
  },
  {
   "cell_type": "markdown",
   "metadata": {},
   "source": [
    "# Bootstrapping Technique\n",
    "\n",
    "**Goal: Test whether changes to the website lead to increased purchase of the product. This is represented by the approved_conversion category.**   \n",
    "\n",
    "Our goal is to determine whether the means of the two groups are statistically different. Unfortunately, we cannot directly t test the data because none of our metrics appear normally distributed. Instead, we will use a technique called bootstrapping. It leverages the idea that  if we take sets of random samples from a distribution, calculate their mean, and create a histogram. The resulting plot should be normally distributed around the mean. Assuming the original sample is randomly selected and representative of the population, sampling from it multiple times will also be representative. Note: Boot strap tests are approximations and have limitations. "
   ]
  },
  {
   "cell_type": "code",
   "execution_count": 326,
   "metadata": {},
   "outputs": [],
   "source": [
    "#####Seperate Results Data into Treatment and Control \n",
    "fb_users_Treat=user_results_full[user_results_full['Treatment_Status']==1]\n",
    "fb_users_Control=user_results_full[user_results_full['Treatment_Status']==0]"
   ]
  },
  {
   "cell_type": "code",
   "execution_count": 327,
   "metadata": {},
   "outputs": [
    {
     "data": {
      "text/plain": [
       "approved_conversion    3.087538\n",
       "dtype: float64"
      ]
     },
     "execution_count": 327,
     "metadata": {},
     "output_type": "execute_result"
    }
   ],
   "source": [
    "fb_users_Treat[['approved_conversion']].var()"
   ]
  },
  {
   "cell_type": "code",
   "execution_count": 328,
   "metadata": {},
   "outputs": [
    {
     "data": {
      "text/plain": [
       "approved_conversion    2.957739\n",
       "dtype: float64"
      ]
     },
     "execution_count": 328,
     "metadata": {},
     "output_type": "execute_result"
    }
   ],
   "source": [
    "fb_users_Control[['approved_conversion']].var()"
   ]
  },
  {
   "cell_type": "markdown",
   "metadata": {},
   "source": [
    "Note: Technically, since the variance of the treatment and control are approximately equal, we can subtract the two means without adjusting for different variances.  "
   ]
  },
  {
   "cell_type": "markdown",
   "metadata": {},
   "source": [
    "# Step 1: Use Cohen's ds to find a reasonable minimal detectable effect (MDE) size for the power equation. \n",
    "\n",
    "The MDE is the smallest difference in effect you want your what your test to be able to pick up. Theoretically, you can choose any MDE. Generally, the lower the MDE the more sample size will be required to run the analysis. Cohen's d is a preliminary test that estimates the difference between the two group's means in standard deviations. The appropriate MDE is largely field specific. IF sample size is an issue, MDE could be chosen based on what effect size will likely be relevant to a companies decision making. Cohen thought .8 represents a large effect size, .5 represents a medium effect size, and .2 represents a small effect size. He suggested any difference below .2 standard deviations is trivial, even if significant. \n"
   ]
  },
  {
   "cell_type": "markdown",
   "metadata": {},
   "source": [
    "\\begin{equation*}\n",
    "CohensDs = \\frac{Mean_T-Mean_C}{PooledStandardDeviation} \n",
    "\\end{equation*}\n"
   ]
  },
  {
   "cell_type": "markdown",
   "metadata": {},
   "source": [
    "\n",
    "\\begin{equation*}\n",
    "PooledSD = \\sqrt{\\frac{((n_c-1)*SD_c^2) +((n_t-1)*SD_t^2)}{n_t+n_c-2}}\n",
    "\\end{equation*}"
   ]
  },
  {
   "cell_type": "code",
   "execution_count": 329,
   "metadata": {},
   "outputs": [],
   "source": [
    "##Step 1a: Use Cohen's ds to find appropriate MDE for power equation. \n",
    "###Cohen's ds = (MeanT-MeanC) / Pooled SD\n",
    "#####Since we have unequal group sizes, \n",
    "nt=len(fb_users_Treat) \n",
    "nc=len(fb_users_Control) \n",
    "SDt=np.std(fb_users_Treat[['approved_conversion']])\n",
    "SDc=np.std(fb_users_Control[['approved_conversion']])\n",
    "meanT=fb_users_Treat[['approved_conversion']].mean()\n",
    "meanC=fb_users_Control[['approved_conversion']].mean()"
   ]
  },
  {
   "cell_type": "code",
   "execution_count": 330,
   "metadata": {},
   "outputs": [
    {
     "data": {
      "text/plain": [
       "approved_conversion    1.736315\n",
       "dtype: float64"
      ]
     },
     "execution_count": 330,
     "metadata": {},
     "output_type": "execute_result"
    }
   ],
   "source": [
    "pooled_SD = np.sqrt((((nc-1)*SDc**2) + ((nt-1)*SDt**2))/(nc+nt-2))\n",
    "pooled_SD"
   ]
  },
  {
   "cell_type": "code",
   "execution_count": 331,
   "metadata": {},
   "outputs": [
    {
     "data": {
      "text/plain": [
       "approved_conversion    0.053979\n",
       "dtype: float64"
      ]
     },
     "execution_count": 331,
     "metadata": {},
     "output_type": "execute_result"
    }
   ],
   "source": [
    "Cohen_Ds_MDE = (meanT-meanC)/ pooled_SD\n",
    "Cohen_Ds_MDE\n"
   ]
  },
  {
   "cell_type": "markdown",
   "metadata": {},
   "source": [
    "**Conclusion:** Cohen's d tells us that the treatment and the control distributions are very, very close. Only .05 standard deviations apart. This gives us an indication that we are unlikely to find a meaningful difference between the groups based on the change. It is also an indication that to assure a statistically significant result we will need a large sample size. "
   ]
  },
  {
   "cell_type": "markdown",
   "metadata": {},
   "source": [
    "# Step 2: Use the power equation to find the required sample size. "
   ]
  },
  {
   "cell_type": "markdown",
   "metadata": {},
   "source": [
    "\\begin{equation*}\n",
    "SampleSize = \\frac{MDE^2*P(1-P)}{\\Bigl(t_{1-\\beta}+t_{\\alpha/2}\\Bigr)^2} \n",
    "\\end{equation*}"
   ]
  },
  {
   "cell_type": "markdown",
   "metadata": {},
   "source": [
    "### Power Equation Variables\n",
    "\n",
    "Besides MDE, we must also select our desired significance level (alpha) and power(beta) for the test. Significance level represents the likliehood of a Type 1 error (False Positive i.e. Reject Null When True)). Power represents the likliehood of a Type 2 error (False Negative i.e. Fail to Reject When False). Generally, the chosen alpha is .05 or less and the chosen power is above .8. \n",
    "\n",
    "**alpha**= .05\n",
    "\n",
    "**beta**= .10\n",
    "\n",
    "**power** = .9"
   ]
  },
  {
   "cell_type": "markdown",
   "metadata": {},
   "source": [
    "Since we want to test whether there is a difference between the treatment and control in either direction, we are using a two sided test. A one sided test allows us to test for a difference in means in a specific direction. For example, does the change cause a positive difference. When performing a two sided test, we must must divide alpha by two before looking up the critical value associated with it. "
   ]
  },
  {
   "cell_type": "code",
   "execution_count": 332,
   "metadata": {},
   "outputs": [],
   "source": [
    "\n",
    "#Critical Value for Two Sided (95% CI) alpha/2=.025 ## \n",
    "a_crit=1.96\n",
    "\n",
    "##Choose the desired power level for desired test. This represents the likliehood of a Type 2 Error. \n",
    "##I chose a 90% power level. It is common practice to pick a power over 80%.  \n",
    "\n",
    "##Beta Critical Value for Power=90%; Beta=.1 ##\n",
    "beta_crit=1.282\n",
    "\n",
    "####Proportion in Treatment (P)\n",
    "P=nt/(nc+nt)\n",
    "\n",
    "#Sample Variance\n",
    "var=user_results_full[['approved_conversion']].var()\n",
    "\n",
    "#Min_Detectable_Effect\n",
    "MDE=Cohen_Ds_MDE\n",
    "\n",
    "####Note: Since we do not have enough data to test the Minimal Detectable Effect Size \n",
    "####Recommended by Cohen_Ds. We reduced the MDE to .5. \n",
    "MDE2=.5\n",
    "\n"
   ]
  },
  {
   "cell_type": "code",
   "execution_count": 333,
   "metadata": {},
   "outputs": [
    {
     "data": {
      "text/plain": [
       "approved_conversion    43638.275797\n",
       "dtype: float64"
      ]
     },
     "execution_count": 333,
     "metadata": {},
     "output_type": "execute_result"
    }
   ],
   "source": [
    "###Use re-arranged power equation to calculate sample size required to pick up MDE.\n",
    "\n",
    "Required_Sample_Size_CohenMDE=(var*(a_crit+beta_crit)**2)/(P*(1-P)*MDE[0]**2)\n",
    "Required_Sample_Size_CohenMDE"
   ]
  },
  {
   "cell_type": "code",
   "execution_count": 334,
   "metadata": {},
   "outputs": [
    {
     "data": {
      "text/plain": [
       "approved_conversion    508.596407\n",
       "dtype: float64"
      ]
     },
     "execution_count": 334,
     "metadata": {},
     "output_type": "execute_result"
    }
   ],
   "source": [
    "###Use re-arranged power equation to calculate sample size required to pick up larger MDE. \n",
    "Required_Sample_Size=(var*(a_crit+beta_crit)**2)/(P*(1-P)*MDE2**2)\n",
    "Required_Sample_Size"
   ]
  },
  {
   "cell_type": "markdown",
   "metadata": {},
   "source": [
    "Note: Since we do not have enough data to test the Minimal Detectable Effect Size recommended by Cohen_Ds. The MDE has been increased to .5. We know the effect size is "
   ]
  },
  {
   "cell_type": "markdown",
   "metadata": {},
   "source": [
    "# Step 3: Use calculated sample size to resample with replacement from treatment and control 10000 times each and create a list of calculated means. "
   ]
  },
  {
   "cell_type": "code",
   "execution_count": 335,
   "metadata": {},
   "outputs": [
    {
     "data": {
      "text/plain": [
       "Text(0.5, 1.0, 'Treatment Sample Means')"
      ]
     },
     "execution_count": 335,
     "metadata": {},
     "output_type": "execute_result"
    },
    {
     "data": {
      "image/png": "[encoded data removed]",
      "text/plain": [
       "<Figure size 432x288 with 1 Axes>"
      ]
     },
     "metadata": {
      "needs_background": "light"
     },
     "output_type": "display_data"
    }
   ],
   "source": [
    "###Treatment Re-sampling\n",
    "np.random.seed( 113)\n",
    "sample_means_overall_treatment = []\n",
    "treat=np.array(fb_users_Treat[['approved_conversion']])\n",
    "treat=treat.flatten()\n",
    "for i in range(10000):\n",
    "    sample_meant = np.random.choice(treat, size=nt).mean()\n",
    "    sample_means_overall_treatment.append(sample_meant)\n",
    "\n",
    "####Plot Sampling Distribution (Means)### \n",
    "sns.distplot(sample_means_overall_treatment)\n",
    "plt.title('Treatment Sample Means')"
   ]
  },
  {
   "cell_type": "code",
   "execution_count": 336,
   "metadata": {},
   "outputs": [
    {
     "data": {
      "text/plain": [
       "Text(0.5, 1.0, 'Control Sample Means')"
      ]
     },
     "execution_count": 336,
     "metadata": {},
     "output_type": "execute_result"
    },
    {
     "data": {
      "image/png": "[encoded data removed]",
      "text/plain": [
       "<Figure size 432x288 with 1 Axes>"
      ]
     },
     "metadata": {
      "needs_background": "light"
     },
     "output_type": "display_data"
    }
   ],
   "source": [
    "###Control Re-sampling\n",
    "np.random.seed( 114)\n",
    "sample_means_overall_control = []\n",
    "control=np.array(fb_users_Control[['approved_conversion']])\n",
    "control=control.flatten()\n",
    "for i in range(10000):\n",
    "    sample_meanc = np.random.choice(control, size=nc).mean()\n",
    "    sample_means_overall_control.append(sample_meanc)\n",
    "\n",
    "####Plot Sampling Distribution (Means)###    \n",
    "sns.distplot(sample_means_overall_control)\n",
    "plt.title('Control Sample Means')"
   ]
  },
  {
   "cell_type": "code",
   "execution_count": 337,
   "metadata": {},
   "outputs": [
    {
     "data": {
      "text/plain": [
       "Text(0.5, 1.0, 'Sample Mean Difference')"
      ]
     },
     "execution_count": 337,
     "metadata": {},
     "output_type": "execute_result"
    },
    {
     "data": {
      "image/png": "[encoded data removed]",
      "text/plain": [
       "<Figure size 432x288 with 1 Axes>"
      ]
     },
     "metadata": {
      "needs_background": "light"
     },
     "output_type": "display_data"
    }
   ],
   "source": [
    "sample_mean_difference=np.array(sample_means_overall_treatment)-np.array(sample_means_overall_control)\n",
    "sns.distplot(sample_mean_difference)\n",
    "plt.title('Sample Mean Difference')"
   ]
  },
  {
   "cell_type": "markdown",
   "metadata": {},
   "source": [
    "# Methods to Test Equivilancy of Distributions and Means"
   ]
  },
  {
   "cell_type": "markdown",
   "metadata": {},
   "source": [
    "# 95% Confidence Intervals\n",
    "Since the sampling distribution appears approximately normal, we can use the distribution to estimate a confidence interval. "
   ]
  },
  {
   "cell_type": "code",
   "execution_count": 338,
   "metadata": {},
   "outputs": [
    {
     "data": {
      "text/plain": [
       "0.09389072970138544"
      ]
     },
     "execution_count": 338,
     "metadata": {},
     "output_type": "execute_result"
    }
   ],
   "source": [
    "mean_boot=sample_mean_difference.mean()\n",
    "mean_boot"
   ]
  },
  {
   "cell_type": "markdown",
   "metadata": {},
   "source": [
    "**Standard Error:** Since the distribution we are working on is a sampling distribution, the standard deviation is the standard error, instead of S/sqrt(n)."
   ]
  },
  {
   "cell_type": "code",
   "execution_count": 339,
   "metadata": {},
   "outputs": [
    {
     "data": {
      "text/plain": [
       "0.10329511290563939"
      ]
     },
     "execution_count": 339,
     "metadata": {},
     "output_type": "execute_result"
    }
   ],
   "source": [
    "standard_error_boot=np.sqrt(sample_mean_difference.var())\n",
    "standard_error_boot"
   ]
  },
  {
   "cell_type": "code",
   "execution_count": 340,
   "metadata": {},
   "outputs": [
    {
     "data": {
      "text/plain": [
       "0.29634915099643866"
      ]
     },
     "execution_count": 340,
     "metadata": {},
     "output_type": "execute_result"
    }
   ],
   "source": [
    "mean_boot+(1.96*standard_error_boot)"
   ]
  },
  {
   "cell_type": "code",
   "execution_count": 341,
   "metadata": {},
   "outputs": [
    {
     "data": {
      "text/plain": [
       "-0.10856769159366776"
      ]
     },
     "execution_count": 341,
     "metadata": {},
     "output_type": "execute_result"
    }
   ],
   "source": [
    "mean_boot-(1.96*standard_error_boot)"
   ]
  },
  {
   "cell_type": "markdown",
   "metadata": {},
   "source": [
    "**Conclusion:** Since 0 is within the estimated confidence interval, we cannot reject the possibility that the two distribution means are the same. "
   ]
  },
  {
   "cell_type": "markdown",
   "metadata": {},
   "source": [
    "# Bootstrap Permutation Test for Equal Distributions"
   ]
  },
  {
   "cell_type": "code",
   "execution_count": 342,
   "metadata": {},
   "outputs": [
    {
     "data": {
      "text/plain": [
       "0.4997"
      ]
     },
     "execution_count": 342,
     "metadata": {},
     "output_type": "execute_result"
    }
   ],
   "source": [
    "\n",
    "meanT=fb_users_Treat[['approved_conversion']].mean()\n",
    "meanC=fb_users_Control[['approved_conversion']].mean()\n",
    "actual_diff=meanT-meanC\n",
    "x=sample_mean_difference>actual_diff[0]\n",
    "ASLboot=x.sum()/10000\n",
    "###Acheived Significance Level\n",
    "ASLboot"
   ]
  },
  {
   "cell_type": "markdown",
   "metadata": {},
   "source": [
    "# Bootstrap Permutation Test for Equality of Means"
   ]
  },
  {
   "cell_type": "code",
   "execution_count": 343,
   "metadata": {},
   "outputs": [
    {
     "data": {
      "text/plain": [
       "approved_conversion    5.283065e-14\n",
       "dtype: float64"
      ]
     },
     "execution_count": 343,
     "metadata": {},
     "output_type": "execute_result"
    }
   ],
   "source": [
    "###Bootstrap Permutation Tests\n",
    "\n",
    "###Test for Equal Means without Same Variance Assumption\n",
    "\n",
    "full_data_mean=user_results_full[['approved_conversion']].mean()\n",
    "\n",
    "####Adjust the distributions we will be re-sampling from:\n",
    "adj_treat=fb_users_Treat[['approved_conversion']]-meanT+full_data_mean\n",
    "adj_control=fb_users_Control[['approved_conversion']]-meanC+full_data_mean\n",
    "\n",
    "actual_ts_tc_diff=(adj_treat.mean()-adj_control.mean())/np.sqrt((adj_treat.var()/nt)+(adj_control.var()/nc))\n",
    "actual_ts_tc_diff"
   ]
  },
  {
   "cell_type": "code",
   "execution_count": 344,
   "metadata": {},
   "outputs": [],
   "source": [
    "###Treatment Re-sampling\n",
    "np.random.seed( 121)\n",
    "resample_treatment = []\n",
    "\n",
    "adj_treat=np.array(adj_treat)\n",
    "adj_treat=adj_treat.flatten()\n",
    "\n",
    "adj_control=np.array(adj_control)\n",
    "adj_control=adj_control.flatten()\n",
    "\n",
    "for i in range(10000):\n",
    "    samplet = np.random.choice(adj_treat, size=nt)\n",
    "    sample_meant=samplet.mean()\n",
    "    sample_vart=samplet.var()\n",
    "    \n",
    "    samplec = np.random.choice(adj_control, size=nc)\n",
    "    sample_meanc=samplec.mean()\n",
    "    sample_varc=samplec.var()\n",
    "    \n",
    "    ts_tc_diff=(sample_meant-sample_meanc)/np.sqrt((sample_vart/nt)+(sample_varc/nc))\n",
    "    \n",
    "    resample_treatment.append(ts_tc_diff)"
   ]
  },
  {
   "cell_type": "code",
   "execution_count": 345,
   "metadata": {},
   "outputs": [
    {
     "data": {
      "text/plain": [
       "Text(0.5, 1.0, 'Bootstrap Distribution Approximation')"
      ]
     },
     "execution_count": 345,
     "metadata": {},
     "output_type": "execute_result"
    },
    {
     "data": {
      "image/png": "[encoded data removed]",
      "text/plain": [
       "<Figure size 432x288 with 1 Axes>"
      ]
     },
     "metadata": {
      "needs_background": "light"
     },
     "output_type": "display_data"
    }
   ],
   "source": [
    "resample_treatment=np.array(resample_treatment)\n",
    "sns.distplot(resample_treatment)\n",
    "plt.title('Bootstrap Distribution Approximation')"
   ]
  },
  {
   "cell_type": "code",
   "execution_count": 346,
   "metadata": {},
   "outputs": [
    {
     "data": {
      "text/plain": [
       "0.4952"
      ]
     },
     "execution_count": 346,
     "metadata": {},
     "output_type": "execute_result"
    }
   ],
   "source": [
    "p_val=resample_treatment>actual_ts_tc_diff[0]\n",
    "ASLbootp=p_val.sum()/10000\n",
    "###Acheived Significance Level\n",
    "ASLbootp"
   ]
  },
  {
   "cell_type": "markdown",
   "metadata": {},
   "source": [
    "**Conclusion:** As expected, since the ASL p-value is greater than our chosen alpha=.05, we fail to reject the null hypothesis. In other words, the test tells us we are not finding a statistically significant difference between the group served the changes and the group not served the changes.   "
   ]
  },
  {
   "cell_type": "markdown",
   "metadata": {},
   "source": [
    "# Alternative T Test Method (Bernoulli):\n",
    "To corroborate our results, we can perform a T Test looking at the binary outcome of 'approved_conversion' rates.  i.e. Whether a purchase was made or not. Although this data is distributed as a bernoulli distribution, we can use an adjusted T Test method. "
   ]
  },
  {
   "cell_type": "code",
   "execution_count": 347,
   "metadata": {},
   "outputs": [
    {
     "name": "stderr",
     "output_type": "stream",
     "text": [
      "/Users/james/opt/anaconda3/lib/python3.7/site-packages/ipykernel_launcher.py:2: SettingWithCopyWarning: \n",
      "A value is trying to be set on a copy of a slice from a DataFrame.\n",
      "Try using .loc[row_indexer,col_indexer] = value instead\n",
      "\n",
      "See the caveats in the documentation: http://pandas.pydata.org/pandas-docs/stable/user_guide/indexing.html#returning-a-view-versus-a-copy\n",
      "  \n",
      "/Users/james/opt/anaconda3/lib/python3.7/site-packages/ipykernel_launcher.py:3: SettingWithCopyWarning: \n",
      "A value is trying to be set on a copy of a slice from a DataFrame.\n",
      "Try using .loc[row_indexer,col_indexer] = value instead\n",
      "\n",
      "See the caveats in the documentation: http://pandas.pydata.org/pandas-docs/stable/user_guide/indexing.html#returning-a-view-versus-a-copy\n",
      "  This is separate from the ipykernel package so we can avoid doing imports until\n"
     ]
    },
    {
     "data": {
      "text/html": [
       "<div>\n",
       "<style scoped>\n",
       "    .dataframe tbody tr th:only-of-type {\n",
       "        vertical-align: middle;\n",
       "    }\n",
       "\n",
       "    .dataframe tbody tr th {\n",
       "        vertical-align: top;\n",
       "    }\n",
       "\n",
       "    .dataframe thead th {\n",
       "        text-align: right;\n",
       "    }\n",
       "</style>\n",
       "<table border=\"1\" class=\"dataframe\">\n",
       "  <thead>\n",
       "    <tr style=\"text-align: right;\">\n",
       "      <th></th>\n",
       "      <th>user_id</th>\n",
       "      <th>reporting_start</th>\n",
       "      <th>reporting_end</th>\n",
       "      <th>age</th>\n",
       "      <th>gender</th>\n",
       "      <th>interest1</th>\n",
       "      <th>interest2</th>\n",
       "      <th>interest3</th>\n",
       "      <th>Treatment_Status</th>\n",
       "      <th>impressions</th>\n",
       "      <th>clicks</th>\n",
       "      <th>spent</th>\n",
       "      <th>total_conversion</th>\n",
       "      <th>approved_conversion</th>\n",
       "      <th>AC_Dummy</th>\n",
       "    </tr>\n",
       "  </thead>\n",
       "  <tbody>\n",
       "    <tr>\n",
       "      <td>1</td>\n",
       "      <td>708749</td>\n",
       "      <td>17/08/2017</td>\n",
       "      <td>17/08/2017</td>\n",
       "      <td>30-34</td>\n",
       "      <td>M</td>\n",
       "      <td>16</td>\n",
       "      <td>19</td>\n",
       "      <td>21</td>\n",
       "      <td>0</td>\n",
       "      <td>17861</td>\n",
       "      <td>2</td>\n",
       "      <td>1.820000</td>\n",
       "      <td>2</td>\n",
       "      <td>0</td>\n",
       "      <td>0</td>\n",
       "    </tr>\n",
       "    <tr>\n",
       "      <td>2</td>\n",
       "      <td>708771</td>\n",
       "      <td>17/08/2017</td>\n",
       "      <td>17/08/2017</td>\n",
       "      <td>30-34</td>\n",
       "      <td>M</td>\n",
       "      <td>20</td>\n",
       "      <td>25</td>\n",
       "      <td>22</td>\n",
       "      <td>0</td>\n",
       "      <td>693</td>\n",
       "      <td>0</td>\n",
       "      <td>0.000000</td>\n",
       "      <td>1</td>\n",
       "      <td>0</td>\n",
       "      <td>0</td>\n",
       "    </tr>\n",
       "    <tr>\n",
       "      <td>4</td>\n",
       "      <td>708818</td>\n",
       "      <td>17/08/2017</td>\n",
       "      <td>17/08/2017</td>\n",
       "      <td>30-34</td>\n",
       "      <td>M</td>\n",
       "      <td>28</td>\n",
       "      <td>33</td>\n",
       "      <td>32</td>\n",
       "      <td>0</td>\n",
       "      <td>4133</td>\n",
       "      <td>1</td>\n",
       "      <td>1.290000</td>\n",
       "      <td>1</td>\n",
       "      <td>1</td>\n",
       "      <td>1</td>\n",
       "    </tr>\n",
       "    <tr>\n",
       "      <td>5</td>\n",
       "      <td>708820</td>\n",
       "      <td>17/08/2017</td>\n",
       "      <td>17/08/2017</td>\n",
       "      <td>30-34</td>\n",
       "      <td>M</td>\n",
       "      <td>29</td>\n",
       "      <td>30</td>\n",
       "      <td>30</td>\n",
       "      <td>0</td>\n",
       "      <td>1915</td>\n",
       "      <td>0</td>\n",
       "      <td>0.000000</td>\n",
       "      <td>1</td>\n",
       "      <td>1</td>\n",
       "      <td>1</td>\n",
       "    </tr>\n",
       "    <tr>\n",
       "      <td>6</td>\n",
       "      <td>708889</td>\n",
       "      <td>17/08/2017</td>\n",
       "      <td>17/08/2017</td>\n",
       "      <td>30-34</td>\n",
       "      <td>M</td>\n",
       "      <td>15</td>\n",
       "      <td>16</td>\n",
       "      <td>17</td>\n",
       "      <td>0</td>\n",
       "      <td>15615</td>\n",
       "      <td>3</td>\n",
       "      <td>4.770000</td>\n",
       "      <td>1</td>\n",
       "      <td>0</td>\n",
       "      <td>0</td>\n",
       "    </tr>\n",
       "    <tr>\n",
       "      <td>...</td>\n",
       "      <td>...</td>\n",
       "      <td>...</td>\n",
       "      <td>...</td>\n",
       "      <td>...</td>\n",
       "      <td>...</td>\n",
       "      <td>...</td>\n",
       "      <td>...</td>\n",
       "      <td>...</td>\n",
       "      <td>...</td>\n",
       "      <td>...</td>\n",
       "      <td>...</td>\n",
       "      <td>...</td>\n",
       "      <td>...</td>\n",
       "      <td>...</td>\n",
       "      <td>...</td>\n",
       "    </tr>\n",
       "    <tr>\n",
       "      <td>1135</td>\n",
       "      <td>1314407</td>\n",
       "      <td>19/08/2017</td>\n",
       "      <td>19/08/2017</td>\n",
       "      <td>45-49</td>\n",
       "      <td>F</td>\n",
       "      <td>106</td>\n",
       "      <td>112</td>\n",
       "      <td>108</td>\n",
       "      <td>0</td>\n",
       "      <td>107100</td>\n",
       "      <td>23</td>\n",
       "      <td>33.710001</td>\n",
       "      <td>1</td>\n",
       "      <td>0</td>\n",
       "      <td>0</td>\n",
       "    </tr>\n",
       "    <tr>\n",
       "      <td>1137</td>\n",
       "      <td>1314409</td>\n",
       "      <td>19/08/2017</td>\n",
       "      <td>19/08/2017</td>\n",
       "      <td>45-49</td>\n",
       "      <td>F</td>\n",
       "      <td>108</td>\n",
       "      <td>112</td>\n",
       "      <td>112</td>\n",
       "      <td>0</td>\n",
       "      <td>212508</td>\n",
       "      <td>33</td>\n",
       "      <td>47.690000</td>\n",
       "      <td>4</td>\n",
       "      <td>1</td>\n",
       "      <td>1</td>\n",
       "    </tr>\n",
       "    <tr>\n",
       "      <td>1139</td>\n",
       "      <td>1314411</td>\n",
       "      <td>19/08/2017</td>\n",
       "      <td>19/08/2017</td>\n",
       "      <td>45-49</td>\n",
       "      <td>F</td>\n",
       "      <td>110</td>\n",
       "      <td>111</td>\n",
       "      <td>116</td>\n",
       "      <td>0</td>\n",
       "      <td>637549</td>\n",
       "      <td>120</td>\n",
       "      <td>173.880003</td>\n",
       "      <td>3</td>\n",
       "      <td>0</td>\n",
       "      <td>0</td>\n",
       "    </tr>\n",
       "    <tr>\n",
       "      <td>1140</td>\n",
       "      <td>1314412</td>\n",
       "      <td>19/08/2017</td>\n",
       "      <td>19/08/2017</td>\n",
       "      <td>45-49</td>\n",
       "      <td>F</td>\n",
       "      <td>111</td>\n",
       "      <td>113</td>\n",
       "      <td>117</td>\n",
       "      <td>0</td>\n",
       "      <td>151531</td>\n",
       "      <td>28</td>\n",
       "      <td>40.289999</td>\n",
       "      <td>2</td>\n",
       "      <td>0</td>\n",
       "      <td>0</td>\n",
       "    </tr>\n",
       "    <tr>\n",
       "      <td>1142</td>\n",
       "      <td>1314415</td>\n",
       "      <td>17/08/2017</td>\n",
       "      <td>17/08/2017</td>\n",
       "      <td>45-49</td>\n",
       "      <td>F</td>\n",
       "      <td>114</td>\n",
       "      <td>116</td>\n",
       "      <td>118</td>\n",
       "      <td>0</td>\n",
       "      <td>513161</td>\n",
       "      <td>114</td>\n",
       "      <td>165.609999</td>\n",
       "      <td>5</td>\n",
       "      <td>2</td>\n",
       "      <td>1</td>\n",
       "    </tr>\n",
       "  </tbody>\n",
       "</table>\n",
       "<p>594 rows × 15 columns</p>\n",
       "</div>"
      ],
      "text/plain": [
       "      user_id reporting_start reporting_end    age gender  interest1  \\\n",
       "1      708749      17/08/2017    17/08/2017  30-34      M         16   \n",
       "2      708771      17/08/2017    17/08/2017  30-34      M         20   \n",
       "4      708818      17/08/2017    17/08/2017  30-34      M         28   \n",
       "5      708820      17/08/2017    17/08/2017  30-34      M         29   \n",
       "6      708889      17/08/2017    17/08/2017  30-34      M         15   \n",
       "...       ...             ...           ...    ...    ...        ...   \n",
       "1135  1314407      19/08/2017    19/08/2017  45-49      F        106   \n",
       "1137  1314409      19/08/2017    19/08/2017  45-49      F        108   \n",
       "1139  1314411      19/08/2017    19/08/2017  45-49      F        110   \n",
       "1140  1314412      19/08/2017    19/08/2017  45-49      F        111   \n",
       "1142  1314415      17/08/2017    17/08/2017  45-49      F        114   \n",
       "\n",
       "      interest2  interest3  Treatment_Status  impressions  clicks       spent  \\\n",
       "1            19         21                 0        17861       2    1.820000   \n",
       "2            25         22                 0          693       0    0.000000   \n",
       "4            33         32                 0         4133       1    1.290000   \n",
       "5            30         30                 0         1915       0    0.000000   \n",
       "6            16         17                 0        15615       3    4.770000   \n",
       "...         ...        ...               ...          ...     ...         ...   \n",
       "1135        112        108                 0       107100      23   33.710001   \n",
       "1137        112        112                 0       212508      33   47.690000   \n",
       "1139        111        116                 0       637549     120  173.880003   \n",
       "1140        113        117                 0       151531      28   40.289999   \n",
       "1142        116        118                 0       513161     114  165.609999   \n",
       "\n",
       "      total_conversion  approved_conversion  AC_Dummy  \n",
       "1                    2                    0         0  \n",
       "2                    1                    0         0  \n",
       "4                    1                    1         1  \n",
       "5                    1                    1         1  \n",
       "6                    1                    0         0  \n",
       "...                ...                  ...       ...  \n",
       "1135                 1                    0         0  \n",
       "1137                 4                    1         1  \n",
       "1139                 3                    0         0  \n",
       "1140                 2                    0         0  \n",
       "1142                 5                    2         1  \n",
       "\n",
       "[594 rows x 15 columns]"
      ]
     },
     "execution_count": 347,
     "metadata": {},
     "output_type": "execute_result"
    }
   ],
   "source": [
    "####Create a Dummy Variable for Whether An Approved Conversion took place or not:\n",
    "fb_users_Treat['AC_Dummy'] = fb_users_Treat.approved_conversion.apply(lambda x: 1 if x > 0 else 0)\n",
    "fb_users_Control['AC_Dummy'] = fb_users_Control.approved_conversion.apply(lambda x: 1 if x > 0 else 0)\n",
    "fb_users_Control"
   ]
  },
  {
   "cell_type": "markdown",
   "metadata": {},
   "source": [
    "# T Test Difference in Means (Bernoulli): \n",
    "Since we are testing the difference in rates represented by a binary Bernoulli distribution, rather than using the sample variance, we calculate variance using the Bernoulli variance formula and sample mean. "
   ]
  },
  {
   "cell_type": "markdown",
   "metadata": {},
   "source": [
    "\\begin{equation*}var=p*(1-p)\\end{equation*}\n",
    "\n",
    "\\begin{equation*}\n",
    "var_t = mean_t(1-mean_t)\\end{equation*}\n",
    "\n",
    "\\begin{equation*}var_c = mean_c(1-mean_c)\\end{equation*}\n",
    "\n"
   ]
  },
  {
   "cell_type": "markdown",
   "metadata": {},
   "source": [
    "\\begin{equation*}\n",
    "tTestStat = \\frac{mean_t-mean_c}{\\sqrt{\\frac{var_t}{n_t}+\\frac{var_c}{n_c}}}\n",
    "\\end{equation*}\n"
   ]
  },
  {
   "cell_type": "code",
   "execution_count": 348,
   "metadata": {},
   "outputs": [],
   "source": [
    "# T Test Variables (Bernoulli):\n",
    "\n",
    "p_T=fb_users_Control['AC_Dummy'].mean()\n",
    "p_C=fb_users_Treat['AC_Dummy'].mean()\n",
    "nT2=len(fb_users_Treat)\n",
    "nC2=len(fb_users_Control)\n",
    "\n",
    "ber_var_T=p_T*(1-p_T)\n",
    "ber_var_C=p_C*(1-p_C)\n",
    "\n"
   ]
  },
  {
   "cell_type": "code",
   "execution_count": 349,
   "metadata": {},
   "outputs": [
    {
     "data": {
      "text/plain": [
       "-0.4140849490608577"
      ]
     },
     "execution_count": 349,
     "metadata": {},
     "output_type": "execute_result"
    }
   ],
   "source": [
    "### Test Statistic ###\n",
    "denominator=np.sqrt((ber_var_T/nT2)+(ber_var_C/nC2))\n",
    "Ber_Test_Stat = (p_T-p_C)/denominator\n",
    "Ber_Test_Stat"
   ]
  },
  {
   "cell_type": "markdown",
   "metadata": {},
   "source": [
    "## Welch-Satterthwaite Formula for Degrees of Freedom\n",
    "\\begin{equation*}\n",
    "DF = \\frac{(\\frac{var_t}{n_t}+\\frac{var_c}{n_c})^2}{\\frac{var_t^2}{n_t^2(n_t-1)}+\\frac{var_c^2}{n_c^2(n_c-1)}}\n",
    "\\end{equation*}\n",
    "\n"
   ]
  },
  {
   "cell_type": "code",
   "execution_count": 350,
   "metadata": {},
   "outputs": [
    {
     "name": "stdout",
     "output_type": "stream",
     "text": [
      "Round Down:\n"
     ]
    },
    {
     "data": {
      "text/plain": [
       "1133.8485143034086"
      ]
     },
     "execution_count": 350,
     "metadata": {},
     "output_type": "execute_result"
    }
   ],
   "source": [
    "###Welch-Satterthwaite Formula for Degrees of Freedom##\n",
    "denominator_WS= ((ber_var_T**2/((nT2**2)*(nT2-1))) + (ber_var_C**2/((nC2**2)*(nC2-1))))\n",
    "DF_WS=((ber_var_T/nT2)+(ber_var_C/nC2))**2/denominator_WS\n",
    "print(\"Round Down:\")\n",
    "DF_WS"
   ]
  },
  {
   "cell_type": "code",
   "execution_count": 351,
   "metadata": {},
   "outputs": [
    {
     "data": {
      "text/plain": [
       "0.6788902119530689"
      ]
     },
     "execution_count": 351,
     "metadata": {},
     "output_type": "execute_result"
    }
   ],
   "source": [
    "###P-Value for Two Sided Test is 2 * CDF\n",
    "p = stats.t.cdf(Ber_Test_Stat,df=DF_WS)*2\n",
    "p\n"
   ]
  },
  {
   "cell_type": "markdown",
   "metadata": {},
   "source": [
    "**Conclusion:** The p-value still exceeds our .05 threshold reinforcing that we still cannot reject the change had **no effect.** "
   ]
  },
  {
   "cell_type": "code",
   "execution_count": null,
   "metadata": {},
   "outputs": [],
   "source": []
  }
 ],
 "metadata": {
  "kernelspec": {
   "display_name": "Python 3",
   "language": "python",
   "name": "python3"
  },
  "language_info": {
   "codemirror_mode": {
    "name": "ipython",
    "version": 3
   },
   "file_extension": ".py",
   "mimetype": "text/x-python",
   "name": "python",
   "nbconvert_exporter": "python",
   "pygments_lexer": "ipython3",
   "version": "3.7.4"
  }
 },
 "nbformat": 4,
 "nbformat_minor": 2
}
